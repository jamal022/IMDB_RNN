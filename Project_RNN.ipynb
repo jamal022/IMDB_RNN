{
  "nbformat": 4,
  "nbformat_minor": 0,
  "metadata": {
    "colab": {
      "name": "Project RNN.ipynb",
      "provenance": []
    },
    "kernelspec": {
      "name": "python3",
      "display_name": "Python 3"
    },
    "language_info": {
      "name": "python"
    },
    "accelerator": "GPU"
  },
  "cells": [
    {
      "cell_type": "code",
      "metadata": {
        "id": "mKqTWnjVx_UL"
      },
      "source": [
        "import numpy as np\n",
        "import pandas as pd \n",
        "import re\n",
        "import nltk \n",
        "from nltk.corpus import stopwords\n",
        "from numpy import array\n",
        "from keras.preprocessing.text import one_hot\n",
        "from keras.preprocessing.sequence import pad_sequences\n",
        "from keras.models import Sequential \n",
        "from keras.layers.core import Activation , Dense , Dropout\n",
        "from keras.layers import Flatten\n",
        "from keras.layers import GlobalMaxPooling1D\n",
        "from keras.layers.embeddings import Embedding\n",
        "from sklearn.model_selection import train_test_split\n",
        "from keras.preprocessing.text import Tokenizer\n"
      ],
      "execution_count": 1,
      "outputs": []
    },
    {
      "cell_type": "code",
      "metadata": {
        "colab": {
          "base_uri": "https://localhost:8080/"
        },
        "id": "qDAjqxuW0Hnc",
        "outputId": "dcdeb4ac-877a-4e6b-bbb4-7c689afd3208"
      },
      "source": [
        "movie_reviews = pd.read_csv(\"/content/IMDB Dataset.csv\",engine='python',encoding='utf-8')\n",
        "movie_reviews.isnull().values.any()\n",
        "movie_reviews.shape"
      ],
      "execution_count": 6,
      "outputs": [
        {
          "output_type": "execute_result",
          "data": {
            "text/plain": [
              "(50000, 2)"
            ]
          },
          "metadata": {
            "tags": []
          },
          "execution_count": 6
        }
      ]
    },
    {
      "cell_type": "code",
      "metadata": {
        "colab": {
          "base_uri": "https://localhost:8080/",
          "height": 204
        },
        "id": "oD346QSP0HxU",
        "outputId": "bd30cfcf-5488-42ca-a6df-4e098773accc"
      },
      "source": [
        "movie_reviews.head()"
      ],
      "execution_count": 7,
      "outputs": [
        {
          "output_type": "execute_result",
          "data": {
            "text/html": [
              "<div>\n",
              "<style scoped>\n",
              "    .dataframe tbody tr th:only-of-type {\n",
              "        vertical-align: middle;\n",
              "    }\n",
              "\n",
              "    .dataframe tbody tr th {\n",
              "        vertical-align: top;\n",
              "    }\n",
              "\n",
              "    .dataframe thead th {\n",
              "        text-align: right;\n",
              "    }\n",
              "</style>\n",
              "<table border=\"1\" class=\"dataframe\">\n",
              "  <thead>\n",
              "    <tr style=\"text-align: right;\">\n",
              "      <th></th>\n",
              "      <th>review</th>\n",
              "      <th>sentiment</th>\n",
              "    </tr>\n",
              "  </thead>\n",
              "  <tbody>\n",
              "    <tr>\n",
              "      <th>0</th>\n",
              "      <td>One of the other reviewers has mentioned that ...</td>\n",
              "      <td>positive</td>\n",
              "    </tr>\n",
              "    <tr>\n",
              "      <th>1</th>\n",
              "      <td>A wonderful little production. &lt;br /&gt;&lt;br /&gt;The...</td>\n",
              "      <td>positive</td>\n",
              "    </tr>\n",
              "    <tr>\n",
              "      <th>2</th>\n",
              "      <td>I thought this was a wonderful way to spend ti...</td>\n",
              "      <td>positive</td>\n",
              "    </tr>\n",
              "    <tr>\n",
              "      <th>3</th>\n",
              "      <td>Basically there's a family where a little boy ...</td>\n",
              "      <td>negative</td>\n",
              "    </tr>\n",
              "    <tr>\n",
              "      <th>4</th>\n",
              "      <td>Petter Mattei's \"Love in the Time of Money\" is...</td>\n",
              "      <td>positive</td>\n",
              "    </tr>\n",
              "  </tbody>\n",
              "</table>\n",
              "</div>"
            ],
            "text/plain": [
              "                                              review sentiment\n",
              "0  One of the other reviewers has mentioned that ...  positive\n",
              "1  A wonderful little production. <br /><br />The...  positive\n",
              "2  I thought this was a wonderful way to spend ti...  positive\n",
              "3  Basically there's a family where a little boy ...  negative\n",
              "4  Petter Mattei's \"Love in the Time of Money\" is...  positive"
            ]
          },
          "metadata": {
            "tags": []
          },
          "execution_count": 7
        }
      ]
    },
    {
      "cell_type": "code",
      "metadata": {
        "colab": {
          "base_uri": "https://localhost:8080/",
          "height": 171
        },
        "id": "Nx0_pIvE12kn",
        "outputId": "96c359d2-94ba-45c7-f613-459a347c4d5f"
      },
      "source": [
        "movie_reviews['review'][4]"
      ],
      "execution_count": 8,
      "outputs": [
        {
          "output_type": "execute_result",
          "data": {
            "application/vnd.google.colaboratory.intrinsic+json": {
              "type": "string"
            },
            "text/plain": [
              "'Petter Mattei\\'s \"Love in the Time of Money\" is a visually stunning film to watch. Mr. Mattei offers us a vivid portrait about human relations. This is a movie that seems to be telling us what money, power and success do to people in the different situations we encounter. <br /><br />This being a variation on the Arthur Schnitzler\\'s play about the same theme, the director transfers the action to the present time New York where all these different characters meet and connect. Each one is connected in one way, or another to the next person, but no one seems to know the previous point of contact. Stylishly, the film has a sophisticated luxurious look. We are taken to see how these people live and the world they live in their own habitat.<br /><br />The only thing one gets out of all these souls in the picture is the different stages of loneliness each one inhabits. A big city is not exactly the best place in which human relations find sincere fulfillment, as one discerns is the case with most of the people we encounter.<br /><br />The acting is good under Mr. Mattei\\'s direction. Steve Buscemi, Rosario Dawson, Carol Kane, Michael Imperioli, Adrian Grenier, and the rest of the talented cast, make these characters come alive.<br /><br />We wish Mr. Mattei good luck and await anxiously for his next work.'"
            ]
          },
          "metadata": {
            "tags": []
          },
          "execution_count": 8
        }
      ]
    },
    {
      "cell_type": "code",
      "metadata": {
        "colab": {
          "base_uri": "https://localhost:8080/",
          "height": 296
        },
        "id": "QMIg-WT92AsW",
        "outputId": "bd60bad8-8991-4fb2-e7bf-d83a009bbf75"
      },
      "source": [
        "import seaborn as sns \n",
        "sns.countplot(x='sentiment',data=movie_reviews)"
      ],
      "execution_count": 9,
      "outputs": [
        {
          "output_type": "execute_result",
          "data": {
            "text/plain": [
              "<matplotlib.axes._subplots.AxesSubplot at 0x7f084c5f06d0>"
            ]
          },
          "metadata": {
            "tags": []
          },
          "execution_count": 9
        },
        {
          "output_type": "display_data",
          "data": {
            "image/png": "[encoded data removed]",
            "text/plain": [
              "<Figure size 432x288 with 1 Axes>"
            ]
          },
          "metadata": {
            "tags": [],
            "needs_background": "light"
          }
        }
      ]
    },
    {
      "cell_type": "code",
      "metadata": {
        "id": "daN_tlbi2MtG"
      },
      "source": [
        "#Data Preprocessing and Cleaning \n",
        "def preprocess_text(sen):\n",
        "  #Removing Html tags \n",
        "  sentence = remove_tags(sen)\n",
        "\n",
        "  #Removing punctuations and numbers\n",
        "  sentence = re.sub('[^a-zA-Z]',' ',sentence)\n",
        "\n",
        "  #Single character removal \n",
        "  sentence = re.sub(r\"\\s+[a-zA-Z]\\s\",\" \",sentence)\n",
        "\n",
        "  #Removing Multiple Spaces \n",
        "  sentence = re.sub(r'\\s+',' ', sentence)\n",
        "\n",
        "  return sentence"
      ],
      "execution_count": 10,
      "outputs": []
    },
    {
      "cell_type": "code",
      "metadata": {
        "id": "Dgb8hohJ33Cp"
      },
      "source": [
        "TAG_RE = re.compile(r'<[^>]+>')\n",
        "\n",
        "def remove_tags(text):\n",
        "  return TAG_RE.sub('',text)"
      ],
      "execution_count": 11,
      "outputs": []
    },
    {
      "cell_type": "code",
      "metadata": {
        "id": "op5FQ2Hm4ZB9"
      },
      "source": [
        "review = []\n",
        "sentences  = list(movie_reviews['review'])\n",
        "for sen in sentences:\n",
        "  review.append(preprocess_text(sen))"
      ],
      "execution_count": 13,
      "outputs": []
    },
    {
      "cell_type": "code",
      "metadata": {
        "colab": {
          "base_uri": "https://localhost:8080/",
          "height": 171
        },
        "id": "fkHc5IUe4pxy",
        "outputId": "dadad016-ed39-479e-ae41-553c9741c5b6"
      },
      "source": [
        "review[4]"
      ],
      "execution_count": 14,
      "outputs": [
        {
          "output_type": "execute_result",
          "data": {
            "application/vnd.google.colaboratory.intrinsic+json": {
              "type": "string"
            },
            "text/plain": [
              "'Petter Mattei Love in the Time of Money is visually stunning film to watch Mr Mattei offers us vivid portrait about human relations This is movie that seems to be telling us what money power and success do to people in the different situations we encounter This being variation on the Arthur Schnitzler play about the same theme the director transfers the action to the present time New York where all these different characters meet and connect Each one is connected in one way or another to the next person but no one seems to know the previous point of contact Stylishly the film has sophisticated luxurious look We are taken to see how these people live and the world they live in their own habitat The only thing one gets out of all these souls in the picture is the different stages of loneliness each one inhabits big city is not exactly the best place in which human relations find sincere fulfillment as one discerns is the case with most of the people we encounter The acting is good under Mr Mattei direction Steve Buscemi Rosario Dawson Carol Kane Michael Imperioli Adrian Grenier and the rest of the talented cast make these characters come alive We wish Mr Mattei good luck and await anxiously for his next work '"
            ]
          },
          "metadata": {
            "tags": []
          },
          "execution_count": 14
        }
      ]
    },
    {
      "cell_type": "code",
      "metadata": {
        "id": "B9fPvDQM4xga"
      },
      "source": [
        "converted = movie_reviews['sentiment']\n",
        "converted = np.array(list(map(lambda x: 1 if x=='positive'  else 0,converted)))"
      ],
      "execution_count": 16,
      "outputs": []
    },
    {
      "cell_type": "code",
      "metadata": {
        "id": "AjT31T9K5g6B"
      },
      "source": [
        "review_train , review_test , converted_train , converted_test = train_test_split(review,converted,test_size = 0.20 , random_state= 0 )\n"
      ],
      "execution_count": 17,
      "outputs": []
    },
    {
      "cell_type": "code",
      "metadata": {
        "id": "ctNBhNNV6t90"
      },
      "source": [
        "tokenizer = Tokenizer(num_words=5000)\n",
        "tokenizer.fit_on_texts(review_train)\n",
        "\n",
        "review_train = tokenizer.texts_to_sequences(review_train)\n",
        "review_test = tokenizer.texts_to_sequences(review_test)\n"
      ],
      "execution_count": 18,
      "outputs": []
    },
    {
      "cell_type": "code",
      "metadata": {
        "id": "cuLk2rPc7Uvi"
      },
      "source": [
        "vocab_size = len(tokenizer.word_index)+1\n",
        "\n",
        "maxlen = 100\n",
        "\n",
        "review_train = pad_sequences(review_train , maxlen=maxlen , padding='post')\n",
        "review_test = pad_sequences(review_test , maxlen=maxlen , padding='post')"
      ],
      "execution_count": 21,
      "outputs": []
    },
    {
      "cell_type": "code",
      "metadata": {
        "id": "0TSmCclj7y4j"
      },
      "source": [
        "from numpy import zeros \n",
        "from numpy import asarray \n",
        "\n",
        "embeddings_dictionary = dict()\n",
        "glove_file = open('/content/glove.6B.100d.txt',encoding='utf8')\n",
        "\n",
        "for line in glove_file:\n",
        "  records = line.split()\n",
        "  word = records[0]\n",
        "  vector_dimensions = asarray(records[1:],dtype = 'float32')\n",
        "  embeddings_dictionary[word]=vector_dimensions\n",
        "glove_file.close()\n"
      ],
      "execution_count": 23,
      "outputs": []
    },
    {
      "cell_type": "code",
      "metadata": {
        "id": "c-qTfGMj-_tz"
      },
      "source": [
        "embedding_matrix = zeros((vocab_size , 100))\n",
        "for word , index in tokenizer.word_index.items():\n",
        "  embedding_vector = embeddings_dictionary.get(word)\n",
        "  if embedding_vector is not None:\n",
        "    embedding_matrix[index] = embedding_vector "
      ],
      "execution_count": 25,
      "outputs": []
    },
    {
      "cell_type": "code",
      "metadata": {
        "colab": {
          "base_uri": "https://localhost:8080/"
        },
        "id": "CmM8zo03AUPQ",
        "outputId": "cc4e0ba2-91e0-483c-85b0-d77c4a6e5795"
      },
      "source": [
        "from keras.layers import LSTM\n",
        "\n",
        "model = Sequential()\n",
        "embedding_layer  = Embedding(vocab_size,100,input_length=maxlen , trainable=False , weights = [embedding_matrix])\n",
        "\n",
        "model.add(embedding_layer)\n",
        "model.add(LSTM(128))\n",
        "\n",
        "model.add(Dense(1,activation='sigmoid'))\n",
        "model.summary()\n",
        "model.compile(optimizer = 'adam' , loss = 'binary_crossentropy',metrics =['acc'])\n"
      ],
      "execution_count": 27,
      "outputs": [
        {
          "output_type": "stream",
          "text": [
            "Model: \"sequential_1\"\n",
            "_________________________________________________________________\n",
            "Layer (type)                 Output Shape              Param #   \n",
            "=================================================================\n",
            "embedding_1 (Embedding)      (None, 100, 100)          9228500   \n",
            "_________________________________________________________________\n",
            "lstm_1 (LSTM)                (None, 128)               117248    \n",
            "_________________________________________________________________\n",
            "dense_1 (Dense)              (None, 1)                 129       \n",
            "=================================================================\n",
            "Total params: 9,345,877\n",
            "Trainable params: 117,377\n",
            "Non-trainable params: 9,228,500\n",
            "_________________________________________________________________\n"
          ],
          "name": "stdout"
        }
      ]
    },
    {
      "cell_type": "code",
      "metadata": {
        "colab": {
          "base_uri": "https://localhost:8080/"
        },
        "id": "XAGKK2y_CG7g",
        "outputId": "1d86963b-2c38-4c80-f6ce-3fbb9fbd01fd"
      },
      "source": [
        "history = model.fit(review_train , converted_train , batch_size=128 , epochs=6 , verbose=1 , validation_split=0.2)\n",
        "\n",
        "score  = model.evaluate(review_test , converted_test , verbose= 1)\n"
      ],
      "execution_count": 28,
      "outputs": [
        {
          "output_type": "stream",
          "text": [
            "Epoch 1/6\n",
            "250/250 [==============================] - 25s 15ms/step - loss: 0.6065 - acc: 0.6543 - val_loss: 0.4862 - val_acc: 0.7856\n",
            "Epoch 2/6\n",
            "250/250 [==============================] - 3s 11ms/step - loss: 0.4672 - acc: 0.7835 - val_loss: 0.4082 - val_acc: 0.8139\n",
            "Epoch 3/6\n",
            "250/250 [==============================] - 3s 11ms/step - loss: 0.4185 - acc: 0.8103 - val_loss: 0.3836 - val_acc: 0.8296\n",
            "Epoch 4/6\n",
            "250/250 [==============================] - 3s 11ms/step - loss: 0.3751 - acc: 0.8306 - val_loss: 0.3568 - val_acc: 0.8426\n",
            "Epoch 5/6\n",
            "250/250 [==============================] - 3s 11ms/step - loss: 0.3505 - acc: 0.8438 - val_loss: 0.3600 - val_acc: 0.8404\n",
            "Epoch 6/6\n",
            "250/250 [==============================] - 3s 11ms/step - loss: 0.3371 - acc: 0.8510 - val_loss: 0.3507 - val_acc: 0.8429\n",
            "313/313 [==============================] - 1s 5ms/step - loss: 0.3648 - acc: 0.8396\n"
          ],
          "name": "stdout"
        }
      ]
    },
    {
      "cell_type": "code",
      "metadata": {
        "colab": {
          "base_uri": "https://localhost:8080/"
        },
        "id": "yXYH-MhoDtka",
        "outputId": "95efd72c-d8b6-4b20-db45-5b465e7609de"
      },
      "source": [
        "print(\"Test Score: \",score[0])\n",
        "print(\"Test Accuracy: \",score[1])"
      ],
      "execution_count": 29,
      "outputs": [
        {
          "output_type": "stream",
          "text": [
            "Test Score:  0.3647703230381012\n",
            "Test Accuracy:  0.8396000266075134\n"
          ],
          "name": "stdout"
        }
      ]
    },
    {
      "cell_type": "code",
      "metadata": {
        "colab": {
          "base_uri": "https://localhost:8080/"
        },
        "id": "XHZP_S4oEIJa",
        "outputId": "4948481d-76f2-4527-fe02-8d3651be8c95"
      },
      "source": [
        "instance = review[60]\n",
        "print(instance)"
      ],
      "execution_count": 31,
      "outputs": [
        {
          "output_type": "stream",
          "text": [
            "What happened What we have here is basically solid and plausible premise and with decent and talented cast but somewhere the movie loses it Actually it never really got going There was little excitement when we find out that Angie is not really pregnant then find out that she is after all but that was it Steve Martin who is very talented person and usually brings lot to movie was dreadful and his entire character was not even close to being important to this movie other than to make it longer really would have liked to see more interactions between the main characters Kate and Angie and maybe try not for pure comedy which unfortunately it was not but maybe drama with comedic elements think if the movie did this it could have been very funny since both actresses are quite funny in their own ways and sitting here can think of numerous scenarios that would have been riot \n"
          ],
          "name": "stdout"
        }
      ]
    },
    {
      "cell_type": "code",
      "metadata": {
        "colab": {
          "base_uri": "https://localhost:8080/"
        },
        "id": "8Xp7BciQEQvy",
        "outputId": "52cebb39-ade9-46cf-e32c-4297d0cf1fb6"
      },
      "source": [
        "instance = tokenizer.texts_to_sequences(instance)\n",
        "\n",
        "flat_list =[]\n",
        "\n",
        "for sublist in instance:\n",
        "  for item in sublist:\n",
        "    flat_list.append(item)\n",
        "\n",
        "flat_list=[flat_list]\n",
        "instance = pad_sequences(flat_list , padding='post',maxlen=maxlen)\n",
        "\n",
        "model.predict(instance)"
      ],
      "execution_count": 32,
      "outputs": [
        {
          "output_type": "execute_result",
          "data": {
            "text/plain": [
              "array([[0.6854191]], dtype=float32)"
            ]
          },
          "metadata": {
            "tags": []
          },
          "execution_count": 32
        }
      ]
    },
    {
      "cell_type": "code",
      "metadata": {
        "colab": {
          "base_uri": "https://localhost:8080/",
          "height": 573
        },
        "id": "N8u0a_dfF1Qu",
        "outputId": "1633ab7a-8382-42d1-e0a1-36a2fbf0063d"
      },
      "source": [
        "import matplotlib.pyplot as plt \n",
        "\n",
        "plt.plot(history.history['acc'])\n",
        "plt.plot(history.history['val_acc'])\n",
        "\n",
        "plt.title(\"Model Summary\")\n",
        "plt.ylabel('accuracy')\n",
        "plt.xlabel('epoch')\n",
        "plt.legend(['train','test'],loc='upper left')\n",
        "plt.show()\n",
        "\n",
        "plt.plot(history.history['loss'])\n",
        "plt.plot(history.history['val_loss'])\n",
        "\n",
        "plt.title(\"Model Loss\")\n",
        "plt.ylabel('loss')\n",
        "plt.xlabel('epoch')\n",
        "plt.legend(['train','test'],loc='upper left')\n",
        "plt.show()\n"
      ],
      "execution_count": 33,
      "outputs": [
        {
          "output_type": "display_data",
          "data": {
            "image/png": "[encoded data removed]",
            "text/plain": [
              "<Figure size 432x288 with 1 Axes>"
            ]
          },
          "metadata": {
            "tags": [],
            "needs_background": "light"
          }
        },
        {
          "output_type": "display_data",
          "data": {
            "image/png": "[encoded data removed]",
            "text/plain": [
              "<Figure size 432x288 with 1 Axes>"
            ]
          },
          "metadata": {
            "tags": [],
            "needs_background": "light"
          }
        }
      ]
    },
    {
      "cell_type": "code",
      "metadata": {
        "id": "OiafRe2TG5sk"
      },
      "source": [
        ""
      ],
      "execution_count": null,
      "outputs": []
    }
  ]
}